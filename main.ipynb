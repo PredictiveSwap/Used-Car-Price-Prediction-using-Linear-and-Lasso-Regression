{
 "cells": [
  {
   "cell_type": "code",
   "execution_count": 3,
   "id": "initial_id",
   "metadata": {
    "collapsed": true,
    "ExecuteTime": {
     "end_time": "2023-12-20T23:50:00.926044Z",
     "start_time": "2023-12-20T23:50:00.922162Z"
    }
   },
   "outputs": [],
   "source": [
    "import pandas as pd\n",
    "import matplotlib.pyplot as plt\n",
    "import seaborn as sns\n",
    "from sklearn.model_selection import train_test_split\n",
    "from sklearn.linear_model import LinearRegression\n",
    "from sklearn.linear_model import Lasso\n",
    "from sklearn import metrics"
   ]
  },
  {
   "cell_type": "code",
   "execution_count": 5,
   "outputs": [],
   "source": [
    "df = pd.read_csv('archive (4)/car data.csv')"
   ],
   "metadata": {
    "collapsed": false,
    "ExecuteTime": {
     "end_time": "2023-12-20T23:51:32.981277Z",
     "start_time": "2023-12-20T23:51:32.975114Z"
    }
   },
   "id": "8d15f97664fd18ad"
  },
  {
   "cell_type": "code",
   "execution_count": 6,
   "outputs": [
    {
     "data": {
      "text/plain": "  Car_Name  Year  Selling_Price  Present_Price  Kms_Driven Fuel_Type  \\\n0     ritz  2014           3.35           5.59       27000    Petrol   \n1      sx4  2013           4.75           9.54       43000    Diesel   \n2     ciaz  2017           7.25           9.85        6900    Petrol   \n3  wagon r  2011           2.85           4.15        5200    Petrol   \n4    swift  2014           4.60           6.87       42450    Diesel   \n\n  Seller_Type Transmission  Owner  \n0      Dealer       Manual      0  \n1      Dealer       Manual      0  \n2      Dealer       Manual      0  \n3      Dealer       Manual      0  \n4      Dealer       Manual      0  ",
      "text/html": "<div>\n<style scoped>\n    .dataframe tbody tr th:only-of-type {\n        vertical-align: middle;\n    }\n\n    .dataframe tbody tr th {\n        vertical-align: top;\n    }\n\n    .dataframe thead th {\n        text-align: right;\n    }\n</style>\n<table border=\"1\" class=\"dataframe\">\n  <thead>\n    <tr style=\"text-align: right;\">\n      <th></th>\n      <th>Car_Name</th>\n      <th>Year</th>\n      <th>Selling_Price</th>\n      <th>Present_Price</th>\n      <th>Kms_Driven</th>\n      <th>Fuel_Type</th>\n      <th>Seller_Type</th>\n      <th>Transmission</th>\n      <th>Owner</th>\n    </tr>\n  </thead>\n  <tbody>\n    <tr>\n      <th>0</th>\n      <td>ritz</td>\n      <td>2014</td>\n      <td>3.35</td>\n      <td>5.59</td>\n      <td>27000</td>\n      <td>Petrol</td>\n      <td>Dealer</td>\n      <td>Manual</td>\n      <td>0</td>\n    </tr>\n    <tr>\n      <th>1</th>\n      <td>sx4</td>\n      <td>2013</td>\n      <td>4.75</td>\n      <td>9.54</td>\n      <td>43000</td>\n      <td>Diesel</td>\n      <td>Dealer</td>\n      <td>Manual</td>\n      <td>0</td>\n    </tr>\n    <tr>\n      <th>2</th>\n      <td>ciaz</td>\n      <td>2017</td>\n      <td>7.25</td>\n      <td>9.85</td>\n      <td>6900</td>\n      <td>Petrol</td>\n      <td>Dealer</td>\n      <td>Manual</td>\n      <td>0</td>\n    </tr>\n    <tr>\n      <th>3</th>\n      <td>wagon r</td>\n      <td>2011</td>\n      <td>2.85</td>\n      <td>4.15</td>\n      <td>5200</td>\n      <td>Petrol</td>\n      <td>Dealer</td>\n      <td>Manual</td>\n      <td>0</td>\n    </tr>\n    <tr>\n      <th>4</th>\n      <td>swift</td>\n      <td>2014</td>\n      <td>4.60</td>\n      <td>6.87</td>\n      <td>42450</td>\n      <td>Diesel</td>\n      <td>Dealer</td>\n      <td>Manual</td>\n      <td>0</td>\n    </tr>\n  </tbody>\n</table>\n</div>"
     },
     "execution_count": 6,
     "metadata": {},
     "output_type": "execute_result"
    }
   ],
   "source": [
    "df.head()"
   ],
   "metadata": {
    "collapsed": false,
    "ExecuteTime": {
     "end_time": "2023-12-20T23:51:43.566657Z",
     "start_time": "2023-12-20T23:51:43.524685Z"
    }
   },
   "id": "c9bb1031cd5ef3b3"
  },
  {
   "cell_type": "code",
   "execution_count": 7,
   "outputs": [
    {
     "data": {
      "text/plain": "(301, 9)"
     },
     "execution_count": 7,
     "metadata": {},
     "output_type": "execute_result"
    }
   ],
   "source": [
    "df.shape"
   ],
   "metadata": {
    "collapsed": false,
    "ExecuteTime": {
     "end_time": "2023-12-20T23:52:10.895706Z",
     "start_time": "2023-12-20T23:52:10.889559Z"
    }
   },
   "id": "de7eb7e2a3fe474d"
  },
  {
   "cell_type": "code",
   "execution_count": 9,
   "outputs": [
    {
     "name": "stdout",
     "output_type": "stream",
     "text": [
      "<class 'pandas.core.frame.DataFrame'>\n",
      "RangeIndex: 301 entries, 0 to 300\n",
      "Data columns (total 9 columns):\n",
      " #   Column         Non-Null Count  Dtype  \n",
      "---  ------         --------------  -----  \n",
      " 0   Car_Name       301 non-null    object \n",
      " 1   Year           301 non-null    int64  \n",
      " 2   Selling_Price  301 non-null    float64\n",
      " 3   Present_Price  301 non-null    float64\n",
      " 4   Kms_Driven     301 non-null    int64  \n",
      " 5   Fuel_Type      301 non-null    object \n",
      " 6   Seller_Type    301 non-null    object \n",
      " 7   Transmission   301 non-null    object \n",
      " 8   Owner          301 non-null    int64  \n",
      "dtypes: float64(2), int64(3), object(4)\n",
      "memory usage: 21.3+ KB\n"
     ]
    }
   ],
   "source": [
    "df.info()"
   ],
   "metadata": {
    "collapsed": false,
    "ExecuteTime": {
     "end_time": "2023-12-20T23:52:33.722750Z",
     "start_time": "2023-12-20T23:52:33.717700Z"
    }
   },
   "id": "9bd6e2a3508780e3"
  },
  {
   "cell_type": "code",
   "execution_count": 10,
   "outputs": [
    {
     "data": {
      "text/plain": "Car_Name         0\nYear             0\nSelling_Price    0\nPresent_Price    0\nKms_Driven       0\nFuel_Type        0\nSeller_Type      0\nTransmission     0\nOwner            0\ndtype: int64"
     },
     "execution_count": 10,
     "metadata": {},
     "output_type": "execute_result"
    }
   ],
   "source": [
    "df.isnull().sum()"
   ],
   "metadata": {
    "collapsed": false,
    "ExecuteTime": {
     "end_time": "2023-12-20T23:53:10.025654Z",
     "start_time": "2023-12-20T23:53:10.022988Z"
    }
   },
   "id": "b8a0d4176b27b154"
  },
  {
   "cell_type": "code",
   "execution_count": 12,
   "outputs": [
    {
     "name": "stdout",
     "output_type": "stream",
     "text": [
      "Fuel_Type\n",
      "Petrol    239\n",
      "Diesel     60\n",
      "CNG         2\n",
      "Name: count, dtype: int64\n",
      "Seller_Type\n",
      "Dealer        195\n",
      "Individual    106\n",
      "Name: count, dtype: int64\n",
      "Transmission\n",
      "Manual       261\n",
      "Automatic     40\n",
      "Name: count, dtype: int64\n"
     ]
    }
   ],
   "source": [
    "print(df['Fuel_Type'].value_counts())\n",
    "print(df['Seller_Type'].value_counts())\n",
    "print(df['Transmission'].value_counts())"
   ],
   "metadata": {
    "collapsed": false,
    "ExecuteTime": {
     "end_time": "2023-12-20T23:55:15.736330Z",
     "start_time": "2023-12-20T23:55:15.731796Z"
    }
   },
   "id": "5e6ecacbf0c7e3c9"
  },
  {
   "cell_type": "code",
   "execution_count": 13,
   "outputs": [],
   "source": [
    "df.replace({'Fuel_Type':{'Petrol':0,'Diesel':1,'CNG':2}},inplace=True)\n",
    "df.replace({'Seller_Type':{'Dealer':0,'Individual':1}},inplace=True)\n",
    "df.replace({'Transmission':{'Manual':0,'Automatic':1}},inplace=True)"
   ],
   "metadata": {
    "collapsed": false,
    "ExecuteTime": {
     "end_time": "2023-12-20T23:59:08.809180Z",
     "start_time": "2023-12-20T23:59:08.805430Z"
    }
   },
   "id": "fa0009188637a684"
  },
  {
   "cell_type": "code",
   "execution_count": 14,
   "outputs": [
    {
     "data": {
      "text/plain": "  Car_Name  Year  Selling_Price  Present_Price  Kms_Driven  Fuel_Type  \\\n0     ritz  2014           3.35           5.59       27000          0   \n1      sx4  2013           4.75           9.54       43000          1   \n2     ciaz  2017           7.25           9.85        6900          0   \n3  wagon r  2011           2.85           4.15        5200          0   \n4    swift  2014           4.60           6.87       42450          1   \n\n   Seller_Type  Transmission  Owner  \n0            0             0      0  \n1            0             0      0  \n2            0             0      0  \n3            0             0      0  \n4            0             0      0  ",
      "text/html": "<div>\n<style scoped>\n    .dataframe tbody tr th:only-of-type {\n        vertical-align: middle;\n    }\n\n    .dataframe tbody tr th {\n        vertical-align: top;\n    }\n\n    .dataframe thead th {\n        text-align: right;\n    }\n</style>\n<table border=\"1\" class=\"dataframe\">\n  <thead>\n    <tr style=\"text-align: right;\">\n      <th></th>\n      <th>Car_Name</th>\n      <th>Year</th>\n      <th>Selling_Price</th>\n      <th>Present_Price</th>\n      <th>Kms_Driven</th>\n      <th>Fuel_Type</th>\n      <th>Seller_Type</th>\n      <th>Transmission</th>\n      <th>Owner</th>\n    </tr>\n  </thead>\n  <tbody>\n    <tr>\n      <th>0</th>\n      <td>ritz</td>\n      <td>2014</td>\n      <td>3.35</td>\n      <td>5.59</td>\n      <td>27000</td>\n      <td>0</td>\n      <td>0</td>\n      <td>0</td>\n      <td>0</td>\n    </tr>\n    <tr>\n      <th>1</th>\n      <td>sx4</td>\n      <td>2013</td>\n      <td>4.75</td>\n      <td>9.54</td>\n      <td>43000</td>\n      <td>1</td>\n      <td>0</td>\n      <td>0</td>\n      <td>0</td>\n    </tr>\n    <tr>\n      <th>2</th>\n      <td>ciaz</td>\n      <td>2017</td>\n      <td>7.25</td>\n      <td>9.85</td>\n      <td>6900</td>\n      <td>0</td>\n      <td>0</td>\n      <td>0</td>\n      <td>0</td>\n    </tr>\n    <tr>\n      <th>3</th>\n      <td>wagon r</td>\n      <td>2011</td>\n      <td>2.85</td>\n      <td>4.15</td>\n      <td>5200</td>\n      <td>0</td>\n      <td>0</td>\n      <td>0</td>\n      <td>0</td>\n    </tr>\n    <tr>\n      <th>4</th>\n      <td>swift</td>\n      <td>2014</td>\n      <td>4.60</td>\n      <td>6.87</td>\n      <td>42450</td>\n      <td>1</td>\n      <td>0</td>\n      <td>0</td>\n      <td>0</td>\n    </tr>\n  </tbody>\n</table>\n</div>"
     },
     "execution_count": 14,
     "metadata": {},
     "output_type": "execute_result"
    }
   ],
   "source": [
    "df.head()"
   ],
   "metadata": {
    "collapsed": false,
    "ExecuteTime": {
     "end_time": "2023-12-20T23:59:18.241821Z",
     "start_time": "2023-12-20T23:59:18.235944Z"
    }
   },
   "id": "d6abdbba6a668490"
  },
  {
   "cell_type": "code",
   "execution_count": 15,
   "outputs": [],
   "source": [
    "X = df.drop(['Car_Name', 'Selling_Price'], axis=1)\n",
    "Y = df['Selling_Price']"
   ],
   "metadata": {
    "collapsed": false,
    "ExecuteTime": {
     "end_time": "2023-12-21T00:01:06.702312Z",
     "start_time": "2023-12-21T00:01:06.697812Z"
    }
   },
   "id": "368f443179a9aa9d"
  },
  {
   "cell_type": "code",
   "execution_count": 16,
   "outputs": [
    {
     "name": "stdout",
     "output_type": "stream",
     "text": [
      "     Year  Present_Price  Kms_Driven  Fuel_Type  Seller_Type  Transmission  \\\n",
      "0    2014           5.59       27000          0            0             0   \n",
      "1    2013           9.54       43000          1            0             0   \n",
      "2    2017           9.85        6900          0            0             0   \n",
      "3    2011           4.15        5200          0            0             0   \n",
      "4    2014           6.87       42450          1            0             0   \n",
      "..    ...            ...         ...        ...          ...           ...   \n",
      "296  2016          11.60       33988          1            0             0   \n",
      "297  2015           5.90       60000          0            0             0   \n",
      "298  2009          11.00       87934          0            0             0   \n",
      "299  2017          12.50        9000          1            0             0   \n",
      "300  2016           5.90        5464          0            0             0   \n",
      "\n",
      "     Owner  \n",
      "0        0  \n",
      "1        0  \n",
      "2        0  \n",
      "3        0  \n",
      "4        0  \n",
      "..     ...  \n",
      "296      0  \n",
      "297      0  \n",
      "298      0  \n",
      "299      0  \n",
      "300      0  \n",
      "\n",
      "[301 rows x 7 columns]\n"
     ]
    }
   ],
   "source": [
    "print(X)"
   ],
   "metadata": {
    "collapsed": false,
    "ExecuteTime": {
     "end_time": "2023-12-21T00:01:30.095359Z",
     "start_time": "2023-12-21T00:01:30.092277Z"
    }
   },
   "id": "741d4868933ec1b4"
  },
  {
   "cell_type": "code",
   "execution_count": 17,
   "outputs": [
    {
     "name": "stdout",
     "output_type": "stream",
     "text": [
      "0       3.35\n",
      "1       4.75\n",
      "2       7.25\n",
      "3       2.85\n",
      "4       4.60\n",
      "       ...  \n",
      "296     9.50\n",
      "297     4.00\n",
      "298     3.35\n",
      "299    11.50\n",
      "300     5.30\n",
      "Name: Selling_Price, Length: 301, dtype: float64\n"
     ]
    }
   ],
   "source": [
    "print(Y)"
   ],
   "metadata": {
    "collapsed": false,
    "ExecuteTime": {
     "end_time": "2023-12-21T00:01:34.215389Z",
     "start_time": "2023-12-21T00:01:34.203343Z"
    }
   },
   "id": "ac17ac7f1f7e2c40"
  },
  {
   "cell_type": "code",
   "execution_count": 18,
   "outputs": [],
   "source": [
    "X_train, X_test, Y_train, Y_test = train_test_split(X, Y, test_size=0.1, random_state=2)"
   ],
   "metadata": {
    "collapsed": false,
    "ExecuteTime": {
     "end_time": "2023-12-21T00:02:36.406957Z",
     "start_time": "2023-12-21T00:02:36.401229Z"
    }
   },
   "id": "39228a0ef9aef307"
  },
  {
   "cell_type": "raw",
   "source": [
    "Linear Regression\n"
   ],
   "metadata": {
    "collapsed": false
   },
   "id": "95c4bdcf3cc2b7d"
  },
  {
   "cell_type": "code",
   "execution_count": 19,
   "outputs": [],
   "source": [
    "lin_reg = LinearRegression()"
   ],
   "metadata": {
    "collapsed": false,
    "ExecuteTime": {
     "end_time": "2023-12-21T00:03:33.780176Z",
     "start_time": "2023-12-21T00:03:33.775655Z"
    }
   },
   "id": "c49b4899ac526126"
  },
  {
   "cell_type": "code",
   "execution_count": 23,
   "outputs": [
    {
     "data": {
      "text/plain": "LinearRegression()",
      "text/html": "<style>#sk-container-id-2 {color: black;}#sk-container-id-2 pre{padding: 0;}#sk-container-id-2 div.sk-toggleable {background-color: white;}#sk-container-id-2 label.sk-toggleable__label {cursor: pointer;display: block;width: 100%;margin-bottom: 0;padding: 0.3em;box-sizing: border-box;text-align: center;}#sk-container-id-2 label.sk-toggleable__label-arrow:before {content: \"▸\";float: left;margin-right: 0.25em;color: #696969;}#sk-container-id-2 label.sk-toggleable__label-arrow:hover:before {color: black;}#sk-container-id-2 div.sk-estimator:hover label.sk-toggleable__label-arrow:before {color: black;}#sk-container-id-2 div.sk-toggleable__content {max-height: 0;max-width: 0;overflow: hidden;text-align: left;background-color: #f0f8ff;}#sk-container-id-2 div.sk-toggleable__content pre {margin: 0.2em;color: black;border-radius: 0.25em;background-color: #f0f8ff;}#sk-container-id-2 input.sk-toggleable__control:checked~div.sk-toggleable__content {max-height: 200px;max-width: 100%;overflow: auto;}#sk-container-id-2 input.sk-toggleable__control:checked~label.sk-toggleable__label-arrow:before {content: \"▾\";}#sk-container-id-2 div.sk-estimator input.sk-toggleable__control:checked~label.sk-toggleable__label {background-color: #d4ebff;}#sk-container-id-2 div.sk-label input.sk-toggleable__control:checked~label.sk-toggleable__label {background-color: #d4ebff;}#sk-container-id-2 input.sk-hidden--visually {border: 0;clip: rect(1px 1px 1px 1px);clip: rect(1px, 1px, 1px, 1px);height: 1px;margin: -1px;overflow: hidden;padding: 0;position: absolute;width: 1px;}#sk-container-id-2 div.sk-estimator {font-family: monospace;background-color: #f0f8ff;border: 1px dotted black;border-radius: 0.25em;box-sizing: border-box;margin-bottom: 0.5em;}#sk-container-id-2 div.sk-estimator:hover {background-color: #d4ebff;}#sk-container-id-2 div.sk-parallel-item::after {content: \"\";width: 100%;border-bottom: 1px solid gray;flex-grow: 1;}#sk-container-id-2 div.sk-label:hover label.sk-toggleable__label {background-color: #d4ebff;}#sk-container-id-2 div.sk-serial::before {content: \"\";position: absolute;border-left: 1px solid gray;box-sizing: border-box;top: 0;bottom: 0;left: 50%;z-index: 0;}#sk-container-id-2 div.sk-serial {display: flex;flex-direction: column;align-items: center;background-color: white;padding-right: 0.2em;padding-left: 0.2em;position: relative;}#sk-container-id-2 div.sk-item {position: relative;z-index: 1;}#sk-container-id-2 div.sk-parallel {display: flex;align-items: stretch;justify-content: center;background-color: white;position: relative;}#sk-container-id-2 div.sk-item::before, #sk-container-id-2 div.sk-parallel-item::before {content: \"\";position: absolute;border-left: 1px solid gray;box-sizing: border-box;top: 0;bottom: 0;left: 50%;z-index: -1;}#sk-container-id-2 div.sk-parallel-item {display: flex;flex-direction: column;z-index: 1;position: relative;background-color: white;}#sk-container-id-2 div.sk-parallel-item:first-child::after {align-self: flex-end;width: 50%;}#sk-container-id-2 div.sk-parallel-item:last-child::after {align-self: flex-start;width: 50%;}#sk-container-id-2 div.sk-parallel-item:only-child::after {width: 0;}#sk-container-id-2 div.sk-dashed-wrapped {border: 1px dashed gray;margin: 0 0.4em 0.5em 0.4em;box-sizing: border-box;padding-bottom: 0.4em;background-color: white;}#sk-container-id-2 div.sk-label label {font-family: monospace;font-weight: bold;display: inline-block;line-height: 1.2em;}#sk-container-id-2 div.sk-label-container {text-align: center;}#sk-container-id-2 div.sk-container {/* jupyter's `normalize.less` sets `[hidden] { display: none; }` but bootstrap.min.css set `[hidden] { display: none !important; }` so we also need the `!important` here to be able to override the default hidden behavior on the sphinx rendered scikit-learn.org. See: https://github.com/scikit-learn/scikit-learn/issues/21755 */display: inline-block !important;position: relative;}#sk-container-id-2 div.sk-text-repr-fallback {display: none;}</style><div id=\"sk-container-id-2\" class=\"sk-top-container\"><div class=\"sk-text-repr-fallback\"><pre>LinearRegression()</pre><b>In a Jupyter environment, please rerun this cell to show the HTML representation or trust the notebook. <br />On GitHub, the HTML representation is unable to render, please try loading this page with nbviewer.org.</b></div><div class=\"sk-container\" hidden><div class=\"sk-item\"><div class=\"sk-estimator sk-toggleable\"><input class=\"sk-toggleable__control sk-hidden--visually\" id=\"sk-estimator-id-2\" type=\"checkbox\" checked><label for=\"sk-estimator-id-2\" class=\"sk-toggleable__label sk-toggleable__label-arrow\">LinearRegression</label><div class=\"sk-toggleable__content\"><pre>LinearRegression()</pre></div></div></div></div></div>"
     },
     "execution_count": 23,
     "metadata": {},
     "output_type": "execute_result"
    }
   ],
   "source": [
    "lin_reg.fit(X_train, Y_train)"
   ],
   "metadata": {
    "collapsed": false,
    "ExecuteTime": {
     "end_time": "2023-12-21T00:05:45.775423Z",
     "start_time": "2023-12-21T00:05:45.770133Z"
    }
   },
   "id": "91b00de3356784ba"
  },
  {
   "cell_type": "raw",
   "source": [
    "Module Evaluation"
   ],
   "metadata": {
    "collapsed": false
   },
   "id": "e3f56731cbac4cf4"
  },
  {
   "cell_type": "code",
   "execution_count": 24,
   "outputs": [],
   "source": [
    "#Predicting\n",
    "training_data_pred = lin_reg.predict(X_train)"
   ],
   "metadata": {
    "collapsed": false,
    "ExecuteTime": {
     "end_time": "2023-12-21T00:05:59.519645Z",
     "start_time": "2023-12-21T00:05:59.510796Z"
    }
   },
   "id": "309e18d447d8afb2"
  },
  {
   "cell_type": "code",
   "execution_count": 25,
   "outputs": [
    {
     "name": "stdout",
     "output_type": "stream",
     "text": [
      "R squared error 0.8799451660493708\n"
     ]
    }
   ],
   "source": [
    "# R squared Error\n",
    "error_score = metrics.r2_score(Y_train, training_data_pred)\n",
    "print(\"R squared error\", error_score)"
   ],
   "metadata": {
    "collapsed": false,
    "ExecuteTime": {
     "end_time": "2023-12-21T00:07:37.090591Z",
     "start_time": "2023-12-21T00:07:37.084696Z"
    }
   },
   "id": "99ceb9f7052a97cb"
  },
  {
   "cell_type": "raw",
   "source": [
    "Visualize Actual and Predicted Price"
   ],
   "metadata": {
    "collapsed": false
   },
   "id": "988fdd262d742fc1"
  },
  {
   "cell_type": "code",
   "execution_count": 26,
   "outputs": [
    {
     "data": {
      "text/plain": "<Figure size 640x480 with 1 Axes>",
      "image/png": "[encoded data removed]"
     },
     "metadata": {},
     "output_type": "display_data"
    }
   ],
   "source": [
    "plt.scatter(Y_train, training_data_pred)\n",
    "plt.xlabel(\"Actual Prices\")\n",
    "plt.ylabel(\"Predicted Prices\")\n",
    "plt.title(\"Actual Price vs Predicted Price\")\n",
    "plt.show()"
   ],
   "metadata": {
    "collapsed": false,
    "ExecuteTime": {
     "end_time": "2023-12-21T00:09:48.471547Z",
     "start_time": "2023-12-21T00:09:48.049052Z"
    }
   },
   "id": "cd0dca4882148379"
  },
  {
   "cell_type": "code",
   "execution_count": 27,
   "outputs": [],
   "source": [
    "#Prediction on test data\n",
    "test_data_pred = lin_reg.predict(X_test)"
   ],
   "metadata": {
    "collapsed": false,
    "ExecuteTime": {
     "end_time": "2023-12-21T00:11:26.754214Z",
     "start_time": "2023-12-21T00:11:26.748977Z"
    }
   },
   "id": "fcbab359f061df6c"
  },
  {
   "cell_type": "code",
   "execution_count": 28,
   "outputs": [
    {
     "name": "stdout",
     "output_type": "stream",
     "text": [
      "R squared error 0.8365766715026535\n"
     ]
    }
   ],
   "source": [
    "# R squared Error\n",
    "error_score = metrics.r2_score(Y_test, test_data_pred)\n",
    "print(\"R squared error\", error_score)"
   ],
   "metadata": {
    "collapsed": false,
    "ExecuteTime": {
     "end_time": "2023-12-21T00:11:54.944134Z",
     "start_time": "2023-12-21T00:11:54.918933Z"
    }
   },
   "id": "1d80369d71293260"
  },
  {
   "cell_type": "code",
   "execution_count": 29,
   "outputs": [
    {
     "data": {
      "text/plain": "<Figure size 640x480 with 1 Axes>",
      "image/png": "[encoded data removed]"
     },
     "metadata": {},
     "output_type": "display_data"
    }
   ],
   "source": [
    "plt.scatter(Y_test, test_data_pred)\n",
    "plt.xlabel(\"Actual Prices\")\n",
    "plt.ylabel(\"Predicted Prices\")\n",
    "plt.title(\"Actual Price vs Predicted Price\")\n",
    "plt.show()"
   ],
   "metadata": {
    "collapsed": false,
    "ExecuteTime": {
     "end_time": "2023-12-21T00:12:49.252784Z",
     "start_time": "2023-12-21T00:12:49.122839Z"
    }
   },
   "id": "6757163a0d1575ce"
  },
  {
   "cell_type": "raw",
   "source": [
    "Lasso Regression"
   ],
   "metadata": {
    "collapsed": false
   },
   "id": "e2ac76466dcff9eb"
  },
  {
   "cell_type": "code",
   "execution_count": 30,
   "outputs": [],
   "source": [
    "lasso_reg = Lasso()"
   ],
   "metadata": {
    "collapsed": false,
    "ExecuteTime": {
     "end_time": "2023-12-21T00:14:48.931590Z",
     "start_time": "2023-12-21T00:14:48.924672Z"
    }
   },
   "id": "df225204d904e630"
  },
  {
   "cell_type": "code",
   "execution_count": 31,
   "outputs": [
    {
     "data": {
      "text/plain": "Lasso()",
      "text/html": "<style>#sk-container-id-3 {color: black;}#sk-container-id-3 pre{padding: 0;}#sk-container-id-3 div.sk-toggleable {background-color: white;}#sk-container-id-3 label.sk-toggleable__label {cursor: pointer;display: block;width: 100%;margin-bottom: 0;padding: 0.3em;box-sizing: border-box;text-align: center;}#sk-container-id-3 label.sk-toggleable__label-arrow:before {content: \"▸\";float: left;margin-right: 0.25em;color: #696969;}#sk-container-id-3 label.sk-toggleable__label-arrow:hover:before {color: black;}#sk-container-id-3 div.sk-estimator:hover label.sk-toggleable__label-arrow:before {color: black;}#sk-container-id-3 div.sk-toggleable__content {max-height: 0;max-width: 0;overflow: hidden;text-align: left;background-color: #f0f8ff;}#sk-container-id-3 div.sk-toggleable__content pre {margin: 0.2em;color: black;border-radius: 0.25em;background-color: #f0f8ff;}#sk-container-id-3 input.sk-toggleable__control:checked~div.sk-toggleable__content {max-height: 200px;max-width: 100%;overflow: auto;}#sk-container-id-3 input.sk-toggleable__control:checked~label.sk-toggleable__label-arrow:before {content: \"▾\";}#sk-container-id-3 div.sk-estimator input.sk-toggleable__control:checked~label.sk-toggleable__label {background-color: #d4ebff;}#sk-container-id-3 div.sk-label input.sk-toggleable__control:checked~label.sk-toggleable__label {background-color: #d4ebff;}#sk-container-id-3 input.sk-hidden--visually {border: 0;clip: rect(1px 1px 1px 1px);clip: rect(1px, 1px, 1px, 1px);height: 1px;margin: -1px;overflow: hidden;padding: 0;position: absolute;width: 1px;}#sk-container-id-3 div.sk-estimator {font-family: monospace;background-color: #f0f8ff;border: 1px dotted black;border-radius: 0.25em;box-sizing: border-box;margin-bottom: 0.5em;}#sk-container-id-3 div.sk-estimator:hover {background-color: #d4ebff;}#sk-container-id-3 div.sk-parallel-item::after {content: \"\";width: 100%;border-bottom: 1px solid gray;flex-grow: 1;}#sk-container-id-3 div.sk-label:hover label.sk-toggleable__label {background-color: #d4ebff;}#sk-container-id-3 div.sk-serial::before {content: \"\";position: absolute;border-left: 1px solid gray;box-sizing: border-box;top: 0;bottom: 0;left: 50%;z-index: 0;}#sk-container-id-3 div.sk-serial {display: flex;flex-direction: column;align-items: center;background-color: white;padding-right: 0.2em;padding-left: 0.2em;position: relative;}#sk-container-id-3 div.sk-item {position: relative;z-index: 1;}#sk-container-id-3 div.sk-parallel {display: flex;align-items: stretch;justify-content: center;background-color: white;position: relative;}#sk-container-id-3 div.sk-item::before, #sk-container-id-3 div.sk-parallel-item::before {content: \"\";position: absolute;border-left: 1px solid gray;box-sizing: border-box;top: 0;bottom: 0;left: 50%;z-index: -1;}#sk-container-id-3 div.sk-parallel-item {display: flex;flex-direction: column;z-index: 1;position: relative;background-color: white;}#sk-container-id-3 div.sk-parallel-item:first-child::after {align-self: flex-end;width: 50%;}#sk-container-id-3 div.sk-parallel-item:last-child::after {align-self: flex-start;width: 50%;}#sk-container-id-3 div.sk-parallel-item:only-child::after {width: 0;}#sk-container-id-3 div.sk-dashed-wrapped {border: 1px dashed gray;margin: 0 0.4em 0.5em 0.4em;box-sizing: border-box;padding-bottom: 0.4em;background-color: white;}#sk-container-id-3 div.sk-label label {font-family: monospace;font-weight: bold;display: inline-block;line-height: 1.2em;}#sk-container-id-3 div.sk-label-container {text-align: center;}#sk-container-id-3 div.sk-container {/* jupyter's `normalize.less` sets `[hidden] { display: none; }` but bootstrap.min.css set `[hidden] { display: none !important; }` so we also need the `!important` here to be able to override the default hidden behavior on the sphinx rendered scikit-learn.org. See: https://github.com/scikit-learn/scikit-learn/issues/21755 */display: inline-block !important;position: relative;}#sk-container-id-3 div.sk-text-repr-fallback {display: none;}</style><div id=\"sk-container-id-3\" class=\"sk-top-container\"><div class=\"sk-text-repr-fallback\"><pre>Lasso()</pre><b>In a Jupyter environment, please rerun this cell to show the HTML representation or trust the notebook. <br />On GitHub, the HTML representation is unable to render, please try loading this page with nbviewer.org.</b></div><div class=\"sk-container\" hidden><div class=\"sk-item\"><div class=\"sk-estimator sk-toggleable\"><input class=\"sk-toggleable__control sk-hidden--visually\" id=\"sk-estimator-id-3\" type=\"checkbox\" checked><label for=\"sk-estimator-id-3\" class=\"sk-toggleable__label sk-toggleable__label-arrow\">Lasso</label><div class=\"sk-toggleable__content\"><pre>Lasso()</pre></div></div></div></div></div>"
     },
     "execution_count": 31,
     "metadata": {},
     "output_type": "execute_result"
    }
   ],
   "source": [
    "lasso_reg.fit(X_train, Y_train)"
   ],
   "metadata": {
    "collapsed": false,
    "ExecuteTime": {
     "end_time": "2023-12-21T00:15:06.151797Z",
     "start_time": "2023-12-21T00:15:06.136482Z"
    }
   },
   "id": "2403029dfa39b8f7"
  },
  {
   "cell_type": "code",
   "execution_count": 32,
   "outputs": [],
   "source": [
    "training_data_pred = lasso_reg.predict(X_train)"
   ],
   "metadata": {
    "collapsed": false,
    "ExecuteTime": {
     "end_time": "2023-12-21T00:15:33.011404Z",
     "start_time": "2023-12-21T00:15:33.001266Z"
    }
   },
   "id": "565a0762b98fa864"
  },
  {
   "cell_type": "code",
   "execution_count": 33,
   "outputs": [
    {
     "name": "stdout",
     "output_type": "stream",
     "text": [
      "R squared error 0.8427856123435794\n"
     ]
    }
   ],
   "source": [
    "error_score = metrics.r2_score(Y_train, training_data_pred)\n",
    "print(\"R squared error\", error_score)"
   ],
   "metadata": {
    "collapsed": false,
    "ExecuteTime": {
     "end_time": "2023-12-21T00:15:48.811877Z",
     "start_time": "2023-12-21T00:15:48.804941Z"
    }
   },
   "id": "64e1e575812aa415"
  },
  {
   "cell_type": "code",
   "execution_count": 34,
   "outputs": [
    {
     "data": {
      "text/plain": "<Figure size 640x480 with 1 Axes>",
      "image/png": "[encoded data removed]"
     },
     "metadata": {},
     "output_type": "display_data"
    }
   ],
   "source": [
    "plt.scatter(Y_train, training_data_pred)\n",
    "plt.xlabel(\"Actual Prices\")\n",
    "plt.ylabel(\"Predicted Prices\")\n",
    "plt.title(\"Actual Prices vs Predicted\")\n",
    "plt.show()"
   ],
   "metadata": {
    "collapsed": false,
    "ExecuteTime": {
     "end_time": "2023-12-21T00:16:19.990600Z",
     "start_time": "2023-12-21T00:16:19.909160Z"
    }
   },
   "id": "e48716f9a54dfba4"
  },
  {
   "cell_type": "code",
   "execution_count": 35,
   "outputs": [],
   "source": [
    "test_data_pred = lasso_reg.predict(X_test)"
   ],
   "metadata": {
    "collapsed": false,
    "ExecuteTime": {
     "end_time": "2023-12-21T00:17:03.071324Z",
     "start_time": "2023-12-21T00:17:03.059408Z"
    }
   },
   "id": "87101a29bac4de3b"
  },
  {
   "cell_type": "code",
   "execution_count": 36,
   "outputs": [
    {
     "name": "stdout",
     "output_type": "stream",
     "text": [
      "R squared error 0.8709167941173195\n"
     ]
    }
   ],
   "source": [
    "error_score = metrics.r2_score(Y_test, test_data_pred)\n",
    "print(\"R squared error\", error_score)"
   ],
   "metadata": {
    "collapsed": false,
    "ExecuteTime": {
     "end_time": "2023-12-21T00:17:12.132332Z",
     "start_time": "2023-12-21T00:17:12.123363Z"
    }
   },
   "id": "32469f6bb097f028"
  },
  {
   "cell_type": "code",
   "execution_count": 37,
   "outputs": [
    {
     "data": {
      "text/plain": "<Figure size 640x480 with 1 Axes>",
      "image/png": "[encoded data removed]"
     },
     "metadata": {},
     "output_type": "display_data"
    }
   ],
   "source": [
    "plt.scatter(Y_test, test_data_pred)\n",
    "plt.xlabel(\"Actual Prices\")\n",
    "plt.ylabel(\"Predicted Prices\")\n",
    "plt.title(\"Actual Prices vs Predicted\")\n",
    "plt.show()"
   ],
   "metadata": {
    "collapsed": false,
    "ExecuteTime": {
     "end_time": "2023-12-21T00:17:46.323076Z",
     "start_time": "2023-12-21T00:17:46.237800Z"
    }
   },
   "id": "5a78a28dbdea95b2"
  },
  {
   "cell_type": "code",
   "execution_count": null,
   "outputs": [],
   "source": [],
   "metadata": {
    "collapsed": false
   },
   "id": "d5f2bf357399bfff"
  }
 ],
 "metadata": {
  "kernelspec": {
   "display_name": "Python 3",
   "language": "python",
   "name": "python3"
  },
  "language_info": {
   "codemirror_mode": {
    "name": "ipython",
    "version": 2
   },
   "file_extension": ".py",
   "mimetype": "text/x-python",
   "name": "python",
   "nbconvert_exporter": "python",
   "pygments_lexer": "ipython2",
   "version": "2.7.6"
  }
 },
 "nbformat": 4,
 "nbformat_minor": 5
}
